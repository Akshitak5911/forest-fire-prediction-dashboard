{
 "cells": [
  {
   "cell_type": "code",
   "execution_count": 87,
   "id": "639e9fa5",
   "metadata": {},
   "outputs": [
    {
     "name": "stdout",
     "output_type": "stream",
     "text": [
      "Mean Squared Error: 11955.85690856404\n"
     ]
    }
   ],
   "source": [
    "import pandas as pd\n",
    "from sklearn.model_selection import train_test_split\n",
    "from sklearn.ensemble import RandomForestRegressor\n",
    "from sklearn.metrics import mean_squared_error\n",
    "\n",
    "# Load the dataset (update the file path if necessary)\n",
    "data = pd.read_csv('C:/Users/akaks/OneDrive/Desktop/forest-fire-ai/forestfires.csv')\n",
    "\n",
    "\n",
    "# Perform one-hot encoding on the 'month' and 'day' columns\n",
    "data_encoded = pd.get_dummies(data, columns=['month', 'day'], drop_first=True)\n",
    "\n",
    "# Split the data into features (X) and target (y)\n",
    "X = data_encoded.drop(columns=['area'])  # All features except target\n",
    "y = data_encoded['area']  # Target variable (area affected by fire)\n",
    "\n",
    "# Split the data into training and test sets\n",
    "X_train, X_test, y_train, y_test = train_test_split(X, y, test_size=0.2, random_state=42)\n",
    "\n",
    "# Initialize the model\n",
    "model = RandomForestRegressor(n_estimators=100, random_state=42) \n",
    "\n",
    "# Train the model with the training data\n",
    "model.fit(X_train, y_train)\n",
    "\n",
    "# Predict the target values using the test set\n",
    "y_pred = model.predict(X_test)\n",
    "\n",
    "# Evaluate the model\n",
    "mse = mean_squared_error(y_test, y_pred)\n",
    "print(f'Mean Squared Error: {mse}')\n"
   ]
  },
  {
   "cell_type": "code",
   "execution_count": 88,
   "id": "ef4d53fb",
   "metadata": {},
   "outputs": [
    {
     "name": "stdout",
     "output_type": "stream",
     "text": [
      "Dataset Shape: (517, 13)\n",
      "\n",
      "Dataset Info:\n",
      "<class 'pandas.core.frame.DataFrame'>\n",
      "RangeIndex: 517 entries, 0 to 516\n",
      "Data columns (total 13 columns):\n",
      " #   Column  Non-Null Count  Dtype  \n",
      "---  ------  --------------  -----  \n",
      " 0   X       517 non-null    int64  \n",
      " 1   Y       517 non-null    int64  \n",
      " 2   month   517 non-null    object \n",
      " 3   day     517 non-null    object \n",
      " 4   FFMC    517 non-null    float64\n",
      " 5   DMC     517 non-null    float64\n",
      " 6   DC      517 non-null    float64\n",
      " 7   ISI     517 non-null    float64\n",
      " 8   temp    517 non-null    float64\n",
      " 9   RH      517 non-null    int64  \n",
      " 10  wind    517 non-null    float64\n",
      " 11  rain    517 non-null    float64\n",
      " 12  area    517 non-null    float64\n",
      "dtypes: float64(8), int64(3), object(2)\n",
      "memory usage: 52.6+ KB\n",
      "\n",
      "Dataset Head:\n",
      "   X  Y month  day  FFMC   DMC     DC  ISI  temp  RH  wind  rain  area\n",
      "0  7  5   mar  fri  86.2  26.2   94.3  5.1   8.2  51   6.7   0.0   0.0\n",
      "1  7  4   oct  tue  90.6  35.4  669.1  6.7  18.0  33   0.9   0.0   0.0\n",
      "2  7  4   oct  sat  90.6  43.7  686.9  6.7  14.6  33   1.3   0.0   0.0\n",
      "3  8  6   mar  fri  91.7  33.3   77.5  9.0   8.3  97   4.0   0.2   0.0\n",
      "4  8  6   mar  sun  89.3  51.3  102.2  9.6  11.4  99   1.8   0.0   0.0\n",
      "\n",
      "Descriptive Statistics:\n",
      "                X           Y        FFMC         DMC          DC         ISI  \\\n",
      "count  517.000000  517.000000  517.000000  517.000000  517.000000  517.000000   \n",
      "mean     4.669246    4.299807   90.644681  110.872340  547.940039    9.021663   \n",
      "std      2.313778    1.229900    5.520111   64.046482  248.066192    4.559477   \n",
      "min      1.000000    2.000000   18.700000    1.100000    7.900000    0.000000   \n",
      "25%      3.000000    4.000000   90.200000   68.600000  437.700000    6.500000   \n",
      "50%      4.000000    4.000000   91.600000  108.300000  664.200000    8.400000   \n",
      "75%      7.000000    5.000000   92.900000  142.400000  713.900000   10.800000   \n",
      "max      9.000000    9.000000   96.200000  291.300000  860.600000   56.100000   \n",
      "\n",
      "             temp          RH        wind        rain         area  \n",
      "count  517.000000  517.000000  517.000000  517.000000   517.000000  \n",
      "mean    18.889168   44.288201    4.017602    0.021663    12.847292  \n",
      "std      5.806625   16.317469    1.791653    0.295959    63.655818  \n",
      "min      2.200000   15.000000    0.400000    0.000000     0.000000  \n",
      "25%     15.500000   33.000000    2.700000    0.000000     0.000000  \n",
      "50%     19.300000   42.000000    4.000000    0.000000     0.520000  \n",
      "75%     22.800000   53.000000    4.900000    0.000000     6.570000  \n",
      "max     33.300000  100.000000    9.400000    6.400000  1090.840000  \n"
     ]
    }
   ],
   "source": [
    "# Data exploration\n",
    "print(\"Dataset Shape:\", data.shape)\n",
    "print(\"\\nDataset Info:\")\n",
    "data.info()\n",
    "\n",
    "print(\"\\nDataset Head:\")\n",
    "print(data.head())\n",
    "\n",
    "print(\"\\nDescriptive Statistics:\")\n",
    "print(data.describe()) \n"
   ]
  },
  {
   "cell_type": "code",
   "execution_count": 89,
   "id": "3f19deff",
   "metadata": {},
   "outputs": [],
   "source": [
    "from sklearn.model_selection import train_test_split\n",
    "\n",
    "# Split the data into features (X) and target (y)\n",
    "X = data.drop(columns=['area'])  # All features except target\n",
    "y = data['area']  # Target variable (area affected by fire)\n",
    "\n",
    "# Split into training and test sets (80% train, 20% test)\n",
    "X_train, X_test, y_train, y_test = train_test_split(X, y, test_size=0.2, random_state=42)\n"
   ]
  },
  {
   "cell_type": "code",
   "execution_count": 90,
   "id": "6083c1f9",
   "metadata": {},
   "outputs": [
    {
     "name": "stdout",
     "output_type": "stream",
     "text": [
      "Mean Squared Error: 11955.85690856404\n"
     ]
    }
   ],
   "source": [
    "# Perform one-hot encoding on 'month' and 'day' columns\n",
    "data_encoded = pd.get_dummies(data, columns=['month', 'day'], drop_first=True)\n",
    "\n",
    "# Now, split the data into features (X) and target (y)\n",
    "X = data_encoded.drop(columns=['area'])  # All features except target\n",
    "y = data_encoded['area']  # Target variable (area affected by fire)\n",
    "\n",
    "# Now, split the data into training and test sets (80% train, 20% test)\n",
    "from sklearn.model_selection import train_test_split\n",
    "X_train, X_test, y_train, y_test = train_test_split(X, y, test_size=0.2, random_state=42)\n",
    "\n",
    "# Initialize the model\n",
    "from sklearn.ensemble import RandomForestRegressor\n",
    "model = RandomForestRegressor(n_estimators=100, random_state=42)\n",
    "\n",
    "# Train the model with the training data\n",
    "model.fit(X_train, y_train)\n",
    "\n",
    "# Predict the target values using the test set\n",
    "y_pred = model.predict(X_test)\n",
    "\n",
    "# Evaluate the model's performance\n",
    "from sklearn.metrics import mean_squared_error\n",
    "mse = mean_squared_error(y_test, y_pred)\n",
    "print(f'Mean Squared Error: {mse}')\n"
   ]
  },
  {
   "cell_type": "code",
   "execution_count": 91,
   "id": "fc4ccec8",
   "metadata": {},
   "outputs": [
    {
     "name": "stdout",
     "output_type": "stream",
     "text": [
      "Mean Squared Error: 11955.85690856404\n"
     ]
    }
   ],
   "source": [
    "# Perform one-hot encoding on 'month' and 'day' columns\n",
    "data_encoded = pd.get_dummies(data, columns=['month', 'day'], drop_first=True)\n",
    "\n",
    "# Now, split the data into features (X) and target (y)\n",
    "X = data_encoded.drop(columns=['area'])  # All features except target\n",
    "y = data_encoded['area']  # Target variable (area affected by fire)\n",
    "\n",
    "# Now, split the data into training and test sets (80% train, 20% test)\n",
    "from sklearn.model_selection import train_test_split\n",
    "X_train, X_test, y_train, y_test = train_test_split(X, y, test_size=0.2, random_state=42)\n",
    "\n",
    "# Initialize the model\n",
    "from sklearn.ensemble import RandomForestRegressor\n",
    "model = RandomForestRegressor(n_estimators=100, random_state=42)\n",
    "\n",
    "# Train the model with the training data\n",
    "model.fit(X_train, y_train)\n",
    "\n",
    "# Predict the target values using the test set\n",
    "y_pred = model.predict(X_test)\n",
    "\n",
    "# Evaluate the model's performance\n",
    "from sklearn.metrics import mean_squared_error\n",
    "mse = mean_squared_error(y_test, y_pred)\n",
    "print(f'Mean Squared Error: {mse}')\n"
   ]
  },
  {
   "cell_type": "code",
   "execution_count": 92,
   "id": "1552ff2b",
   "metadata": {},
   "outputs": [],
   "source": [
    "def predict_fire_area(input_data, model):\n",
    "    \"\"\"\n",
    "    Predicts fire-affected area based on sensor input.\n",
    "    input_data: Dictionary with features like temp, RH, etc.\n",
    "    \"\"\"\n",
    "    input_df = pd.DataFrame([input_data])\n",
    "    \n",
    "    # Apply one-hot encoding to month and day\n",
    "    input_df_encoded = pd.get_dummies(input_df)\n",
    "    \n",
    "    # Align with training data columns\n",
    "    missing_cols = set(X_train.columns) - set(input_df_encoded.columns)\n",
    "    for col in missing_cols:\n",
    "        input_df_encoded[col] = 0\n",
    "    input_df_encoded = input_df_encoded[X_train.columns]\n",
    "\n",
    "    prediction = model.predict(input_df_encoded)\n",
    "    return prediction[0]\n"
   ]
  },
  {
   "cell_type": "code",
   "execution_count": 93,
   "id": "8caa8b07",
   "metadata": {},
   "outputs": [
    {
     "name": "stdout",
     "output_type": "stream",
     "text": [
      "🔥 Predicted Fire Area: 4.64 hactares\n"
     ]
    }
   ],
   "source": [
    "# Example sensor data (you can adjust based on real input)\n",
    "new_sensor_data = {\n",
    "    'X': 5,\n",
    "    'Y': 4,\n",
    "    'month': 'aug',\n",
    "    'day': 'mon',\n",
    "    'FFMC': 90.0,\n",
    "    'DMC': 45.0,\n",
    "    'DC': 600.0,\n",
    "    'ISI': 8.0,\n",
    "    'temp': 25.0,\n",
    "    'RH': 30,\n",
    "    'wind': 5.0,\n",
    "    'rain': 0.0\n",
    "}\n",
    "\n",
    "# Predict\n",
    "predicted_area = predict_fire_area(new_sensor_data, model)\n",
    "print(f\"🔥 Predicted Fire Area: {predicted_area:.2f} hactares\")\n"
   ]
  },
  {
   "cell_type": "code",
   "execution_count": 94,
   "id": "8e8d02ed",
   "metadata": {},
   "outputs": [
    {
     "data": {
      "image/png": "[encoded data removed]",
      "text/plain": [
       "<Figure size 640x480 with 1 Axes>"
      ]
     },
     "metadata": {},
     "output_type": "display_data"
    }
   ],
   "source": [
    "import matplotlib.pyplot as plt\n",
    "\n",
    "# Compare actual vs predicted values visually\n",
    "plt.scatter(y_test, y_pred, alpha=0.6, color='green')\n",
    "plt.xlabel(\"Actual Area\")\n",
    "plt.ylabel(\"Predicted Area\")\n",
    "plt.title(\"Actual vs Predicted Fire Area\")\n",
    "plt.grid(True)\n",
    "plt.show()\n"
   ]
  },
  {
   "cell_type": "code",
   "execution_count": 95,
   "id": "2212c007",
   "metadata": {},
   "outputs": [],
   "source": [
    "# Add a new column for fire risk level\n",
    "def classify_risk(area):\n",
    "    if area == 0:\n",
    "        return 'Low'\n",
    "    elif area <= 10:\n",
    "        return 'Moderate'\n",
    "    else:\n",
    "        return 'High'\n",
    "\n",
    "data['risk_level'] = data['area'].apply(classify_risk)\n"
   ]
  },
  {
   "cell_type": "code",
   "execution_count": 96,
   "id": "e7b25474",
   "metadata": {},
   "outputs": [],
   "source": [
    "from sklearn.preprocessing import LabelEncoder\n",
    "\n",
    "# Encode the risk_level column for classification\n",
    "label_encoder = LabelEncoder()\n",
    "data['risk_level_encoded'] = label_encoder.fit_transform(data['risk_level'])\n",
    "\n",
    "# One-hot encode month and day (skip if you've done this already)\n",
    "data_encoded = pd.get_dummies(data, columns=['month', 'day'], drop_first=True)\n"
   ]
  },
  {
   "cell_type": "code",
   "execution_count": 97,
   "id": "90631499",
   "metadata": {},
   "outputs": [
    {
     "name": "stdout",
     "output_type": "stream",
     "text": [
      "Classification Report:\n",
      "               precision    recall  f1-score   support\n",
      "\n",
      "        High       0.57      0.19      0.29        21\n",
      "         Low       0.56      0.71      0.63        51\n",
      "    Moderate       0.45      0.47      0.46        32\n",
      "\n",
      "    accuracy                           0.53       104\n",
      "   macro avg       0.53      0.46      0.46       104\n",
      "weighted avg       0.53      0.53      0.51       104\n",
      "\n",
      "Confusion Matrix:\n",
      " [[ 4 12  5]\n",
      " [ 2 36 13]\n",
      " [ 1 16 15]]\n"
     ]
    }
   ],
   "source": [
    "from sklearn.ensemble import RandomForestClassifier\n",
    "from sklearn.model_selection import train_test_split\n",
    "from sklearn.metrics import classification_report, confusion_matrix\n",
    "\n",
    "# Define features and target\n",
    "X = data_encoded.drop(columns=['area', 'risk_level', 'risk_level_encoded'])\n",
    "y = data_encoded['risk_level_encoded']\n",
    "\n",
    "# Split the data\n",
    "X_train, X_test, y_train, y_test = train_test_split(X, y, test_size=0.2, random_state=42)\n",
    "\n",
    "# Train the classifier\n",
    "clf = RandomForestClassifier(n_estimators=100, random_state=42)\n",
    "clf.fit(X_train, y_train)\n",
    "\n",
    "# Predictions\n",
    "y_pred = clf.predict(X_test)\n",
    "\n",
    "# Evaluation\n",
    "print(\"Classification Report:\\n\", classification_report(y_test, y_pred, target_names=label_encoder.classes_))\n",
    "print(\"Confusion Matrix:\\n\", confusion_matrix(y_test, y_pred))\n"
   ]
  },
  {
   "cell_type": "code",
   "execution_count": 98,
   "id": "f91229af",
   "metadata": {},
   "outputs": [
    {
     "name": "stdout",
     "output_type": "stream",
     "text": [
      "Predicted Fire Risk Level: Low\n"
     ]
    }
   ],
   "source": [
    "# Ensure new_data matches training columns\n",
    "missing_cols = set(X_train.columns) - set(new_data.columns)\n",
    "for col in missing_cols:\n",
    "    new_data[col] = 0\n",
    "\n",
    "# Reorder columns to match\n",
    "new_data = new_data[X_train.columns]\n",
    "risk_pred_encoded = clf.predict(new_data)[0]\n",
    "risk_pred_label = label_encoder.inverse_transform([risk_pred_encoded])[0]\n",
    "print(\"Predicted Fire Risk Level:\", risk_pred_label)\n",
    "\n",
    "\n"
   ]
  },
  {
   "cell_type": "code",
   "execution_count": 99,
   "id": "2517d59e",
   "metadata": {},
   "outputs": [
    {
     "name": "stdout",
     "output_type": "stream",
     "text": [
      "Fitting 3 folds for each of 27 candidates, totalling 81 fits\n",
      "Best Parameters: {'max_depth': 10, 'min_samples_split': 10, 'n_estimators': 300}\n"
     ]
    }
   ],
   "source": [
    "from sklearn.model_selection import GridSearchCV\n",
    "\n",
    "param_grid = {\n",
    "    'n_estimators': [100, 200, 300],\n",
    "    'max_depth': [10, 20, 30],\n",
    "    'min_samples_split': [2, 5, 10]\n",
    "}\n",
    "\n",
    "grid_search = GridSearchCV(RandomForestRegressor(), param_grid, cv=3, verbose=1)\n",
    "grid_search.fit(X_train, y_train)\n",
    "print(\"Best Parameters:\", grid_search.best_params_)\n"
   ]
  },
  {
   "cell_type": "code",
   "execution_count": 100,
   "id": "9bfc1e6d",
   "metadata": {},
   "outputs": [
    {
     "name": "stdout",
     "output_type": "stream",
     "text": [
      "Fitting 3 folds for each of 27 candidates, totalling 81 fits\n",
      "Best Parameters: {'max_depth': 5, 'min_samples_split': 10, 'n_estimators': 50}\n"
     ]
    }
   ],
   "source": [
    "from sklearn.model_selection import GridSearchCV\n",
    "\n",
    "# Define the parameter grid\n",
    "param_grid = {\n",
    "    'n_estimators': [50, 100, 200],\n",
    "    'max_depth': [5, 10, 15],\n",
    "    'min_samples_split': [2, 5, 10]\n",
    "}\n",
    "\n",
    "# Initialize the RandomForestClassifier\n",
    "clf = RandomForestClassifier(random_state=42)\n",
    "\n",
    "# GridSearchCV to find the best parameters\n",
    "grid_search = GridSearchCV(estimator=clf, param_grid=param_grid, cv=3, n_jobs=-1, verbose=2)\n",
    "\n",
    "# Fit grid search\n",
    "grid_search.fit(X_train, y_train)\n",
    "\n",
    "# Best parameters\n",
    "print(\"Best Parameters:\", grid_search.best_params_)\n"
   ]
  },
  {
   "cell_type": "code",
   "execution_count": 101,
   "id": "0d1c0982",
   "metadata": {},
   "outputs": [],
   "source": [
    "from sklearn.ensemble import RandomForestClassifier\n",
    "\n",
    "# Re-initialize the model with the best parameters\n",
    "best_model = RandomForestClassifier(\n",
    "    n_estimators=50,\n",
    "    max_depth=5,\n",
    "    min_samples_split=10,\n",
    "    random_state=42\n",
    ")\n",
    "\n",
    "# Fit the model with the training data\n",
    "best_model.fit(X_train, y_train)\n",
    "\n",
    "# Now, you can use this model to make predictions on the test set or new data\n",
    "y_pred = best_model.predict(X_test)\n"
   ]
  },
  {
   "cell_type": "code",
   "execution_count": 102,
   "id": "1731c51f",
   "metadata": {},
   "outputs": [
    {
     "name": "stdout",
     "output_type": "stream",
     "text": [
      "Accuracy: 0.49038461538461536\n"
     ]
    }
   ],
   "source": [
    "from sklearn.metrics import accuracy_score\n",
    "\n",
    "# Calculate accuracy on the test set\n",
    "accuracy = accuracy_score(y_test, y_pred)\n",
    "print(\"Accuracy:\", accuracy)\n"
   ]
  }
 ],
 "metadata": {
  "kernelspec": {
   "display_name": ".conda",
   "language": "python",
   "name": "python3"
  },
  "language_info": {
   "codemirror_mode": {
    "name": "ipython",
    "version": 3
   },
   "file_extension": ".py",
   "mimetype": "text/x-python",
   "name": "python",
   "nbconvert_exporter": "python",
   "pygments_lexer": "ipython3",
   "version": "3.11.11"
  }
 },
 "nbformat": 4,
 "nbformat_minor": 5
}
