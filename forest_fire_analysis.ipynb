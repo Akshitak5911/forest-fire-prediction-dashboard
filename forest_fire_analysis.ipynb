{
 "cells": [
  {
   "cell_type": "code",
   "execution_count": null,
   "id": "639e9fa5",
   "metadata": {},
   "outputs": [
    {
     "name": "stdout",
     "output_type": "stream",
     "text": [
      "Mean Squared Error: 11955.85690856404\n"
     ]
    }
   ],
   "source": [
    "import pandas as pd\n",
    "from sklearn.model_selection import train_test_split\n",
    "from sklearn.ensemble import RandomForestRegressor\n",
    "from sklearn.metrics import mean_squared_error\n",
    "\n",
    "# Load the dataset (update the file path if necessary)\n",
    "data = pd.read_csv('C:/Users/akaks/OneDrive/Desktop/forest-fire-ai/forestfires.csv')\n",
    "\n",
    "\n",
    "# Perform one-hot encoding on the 'month' and 'day' columns\n",
    "data_encoded = pd.get_dummies(data, columns=['month', 'day'], drop_first=True)\n",
    "\n",
    "# Split the data into features (X) and target (y)\n",
    "X = data_encoded.drop(columns=['area'])  # All features except target\n",
    "y = data_encoded['area']  # Target variable (area affected by fire)\n",
    "\n",
    "# Split the data into training and test sets\n",
    "X_train, X_test, y_train, y_test = train_test_split(X, y, test_size=0.2, random_state=42)\n",
    "\n",
    "# Initialize the model\n",
    "model = RandomForestRegressor(n_estimators=100, random_state=42) \n",
    "\n",
    "# Train the model with the training data\n",
    "model.fit(X_train, y_train)\n",
    "\n",
    "# Predict the target values using the test set\n",
    "y_pred = model.predict(X_test)\n",
    "\n",
    "# Evaluate the model\n",
    "mse = mean_squared_error(y_test, y_pred)\n",
    "print(f'Mean Squared Error: {mse}')\n"
   ]
  },
  {
   "cell_type": "code",
   "execution_count": 43,
   "id": "ef4d53fb",
   "metadata": {},
   "outputs": [
    {
     "name": "stdout",
     "output_type": "stream",
     "text": [
      "Dataset Shape: (517, 13)\n",
      "\n",
      "Dataset Info:\n",
      "<class 'pandas.core.frame.DataFrame'>\n",
      "RangeIndex: 517 entries, 0 to 516\n",
      "Data columns (total 13 columns):\n",
      " #   Column  Non-Null Count  Dtype  \n",
      "---  ------  --------------  -----  \n",
      " 0   X       517 non-null    int64  \n",
      " 1   Y       517 non-null    int64  \n",
      " 2   month   517 non-null    object \n",
      " 3   day     517 non-null    object \n",
      " 4   FFMC    517 non-null    float64\n",
      " 5   DMC     517 non-null    float64\n",
      " 6   DC      517 non-null    float64\n",
      " 7   ISI     517 non-null    float64\n",
      " 8   temp    517 non-null    float64\n",
      " 9   RH      517 non-null    int64  \n",
      " 10  wind    517 non-null    float64\n",
      " 11  rain    517 non-null    float64\n",
      " 12  area    517 non-null    float64\n",
      "dtypes: float64(8), int64(3), object(2)\n",
      "memory usage: 52.6+ KB\n",
      "\n",
      "Dataset Head:\n",
      "   X  Y month  day  FFMC   DMC     DC  ISI  temp  RH  wind  rain  area\n",
      "0  7  5   mar  fri  86.2  26.2   94.3  5.1   8.2  51   6.7   0.0   0.0\n",
      "1  7  4   oct  tue  90.6  35.4  669.1  6.7  18.0  33   0.9   0.0   0.0\n",
      "2  7  4   oct  sat  90.6  43.7  686.9  6.7  14.6  33   1.3   0.0   0.0\n",
      "3  8  6   mar  fri  91.7  33.3   77.5  9.0   8.3  97   4.0   0.2   0.0\n",
      "4  8  6   mar  sun  89.3  51.3  102.2  9.6  11.4  99   1.8   0.0   0.0\n",
      "\n",
      "Descriptive Statistics:\n",
      "                X           Y        FFMC         DMC          DC         ISI  \\\n",
      "count  517.000000  517.000000  517.000000  517.000000  517.000000  517.000000   \n",
      "mean     4.669246    4.299807   90.644681  110.872340  547.940039    9.021663   \n",
      "std      2.313778    1.229900    5.520111   64.046482  248.066192    4.559477   \n",
      "min      1.000000    2.000000   18.700000    1.100000    7.900000    0.000000   \n",
      "25%      3.000000    4.000000   90.200000   68.600000  437.700000    6.500000   \n",
      "50%      4.000000    4.000000   91.600000  108.300000  664.200000    8.400000   \n",
      "75%      7.000000    5.000000   92.900000  142.400000  713.900000   10.800000   \n",
      "max      9.000000    9.000000   96.200000  291.300000  860.600000   56.100000   \n",
      "\n",
      "             temp          RH        wind        rain         area  \n",
      "count  517.000000  517.000000  517.000000  517.000000   517.000000  \n",
      "mean    18.889168   44.288201    4.017602    0.021663    12.847292  \n",
      "std      5.806625   16.317469    1.791653    0.295959    63.655818  \n",
      "min      2.200000   15.000000    0.400000    0.000000     0.000000  \n",
      "25%     15.500000   33.000000    2.700000    0.000000     0.000000  \n",
      "50%     19.300000   42.000000    4.000000    0.000000     0.520000  \n",
      "75%     22.800000   53.000000    4.900000    0.000000     6.570000  \n",
      "max     33.300000  100.000000    9.400000    6.400000  1090.840000  \n"
     ]
    }
   ],
   "source": [
    "# Data exploration\n",
    "print(\"Dataset Shape:\", df.shape)\n",
    "print(\"\\nDataset Info:\")\n",
    "df.info()\n",
    "\n",
    "print(\"\\nDataset Head:\")\n",
    "print(df.head())\n",
    "\n",
    "print(\"\\nDescriptive Statistics:\")\n",
    "print(df.describe()) \n"
   ]
  },
  {
   "cell_type": "code",
   "execution_count": 44,
   "id": "3f19deff",
   "metadata": {},
   "outputs": [],
   "source": [
    "from sklearn.model_selection import train_test_split\n",
    "\n",
    "# Split the data into features (X) and target (y)\n",
    "X = data.drop(columns=['area'])  # All features except target\n",
    "y = data['area']  # Target variable (area affected by fire)\n",
    "\n",
    "# Split into training and test sets (80% train, 20% test)\n",
    "X_train, X_test, y_train, y_test = train_test_split(X, y, test_size=0.2, random_state=42)\n"
   ]
  },
  {
   "cell_type": "code",
   "execution_count": 45,
   "id": "6083c1f9",
   "metadata": {},
   "outputs": [
    {
     "name": "stdout",
     "output_type": "stream",
     "text": [
      "Mean Squared Error: 11955.85690856404\n"
     ]
    }
   ],
   "source": [
    "# Perform one-hot encoding on 'month' and 'day' columns\n",
    "data_encoded = pd.get_dummies(data, columns=['month', 'day'], drop_first=True)\n",
    "\n",
    "# Now, split the data into features (X) and target (y)\n",
    "X = data_encoded.drop(columns=['area'])  # All features except target\n",
    "y = data_encoded['area']  # Target variable (area affected by fire)\n",
    "\n",
    "# Now, split the data into training and test sets (80% train, 20% test)\n",
    "from sklearn.model_selection import train_test_split\n",
    "X_train, X_test, y_train, y_test = train_test_split(X, y, test_size=0.2, random_state=42)\n",
    "\n",
    "# Initialize the model\n",
    "from sklearn.ensemble import RandomForestRegressor\n",
    "model = RandomForestRegressor(n_estimators=100, random_state=42)\n",
    "\n",
    "# Train the model with the training data\n",
    "model.fit(X_train, y_train)\n",
    "\n",
    "# Predict the target values using the test set\n",
    "y_pred = model.predict(X_test)\n",
    "\n",
    "# Evaluate the model's performance\n",
    "from sklearn.metrics import mean_squared_error\n",
    "mse = mean_squared_error(y_test, y_pred)\n",
    "print(f'Mean Squared Error: {mse}')\n"
   ]
  },
  {
   "cell_type": "code",
   "execution_count": 46,
   "id": "fc4ccec8",
   "metadata": {},
   "outputs": [
    {
     "name": "stdout",
     "output_type": "stream",
     "text": [
      "Mean Squared Error: 11955.85690856404\n"
     ]
    }
   ],
   "source": [
    "# Perform one-hot encoding on 'month' and 'day' columns\n",
    "data_encoded = pd.get_dummies(data, columns=['month', 'day'], drop_first=True)\n",
    "\n",
    "# Now, split the data into features (X) and target (y)\n",
    "X = data_encoded.drop(columns=['area'])  # All features except target\n",
    "y = data_encoded['area']  # Target variable (area affected by fire)\n",
    "\n",
    "# Now, split the data into training and test sets (80% train, 20% test)\n",
    "from sklearn.model_selection import train_test_split\n",
    "X_train, X_test, y_train, y_test = train_test_split(X, y, test_size=0.2, random_state=42)\n",
    "\n",
    "# Initialize the model\n",
    "from sklearn.ensemble import RandomForestRegressor\n",
    "model = RandomForestRegressor(n_estimators=100, random_state=42)\n",
    "\n",
    "# Train the model with the training data\n",
    "model.fit(X_train, y_train)\n",
    "\n",
    "# Predict the target values using the test set\n",
    "y_pred = model.predict(X_test)\n",
    "\n",
    "# Evaluate the model's performance\n",
    "from sklearn.metrics import mean_squared_error\n",
    "mse = mean_squared_error(y_test, y_pred)\n",
    "print(f'Mean Squared Error: {mse}')\n"
   ]
  }
 ],
 "metadata": {
  "kernelspec": {
   "display_name": ".conda",
   "language": "python",
   "name": "python3"
  },
  "language_info": {
   "codemirror_mode": {
    "name": "ipython",
    "version": 3
   },
   "file_extension": ".py",
   "mimetype": "text/x-python",
   "name": "python",
   "nbconvert_exporter": "python",
   "pygments_lexer": "ipython3",
   "version": "3.11.11"
  }
 },
 "nbformat": 4,
 "nbformat_minor": 5
}
